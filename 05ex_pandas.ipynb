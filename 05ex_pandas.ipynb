{
 "cells": [
  {
   "cell_type": "markdown",
   "metadata": {},
   "source": [
    "1\\. **Pandas DataFrame**\n",
    "\n",
    "This exercise consists in analyzing a dataset containg timing information from a series of Time-to-Digital-Converters (TDC) implemented in a pair of FPGAs. Each measurement (i.e. each row of the input file) consists of a flag that specifies the type of message ('HEAD', which in this case is always 1), two addresses of the TDC providing the signal ('FPGA' and 'TDC_CHANNEL'), and the timing information ('ORBIT_CNT', 'BX_COUNTER', and 'TDC_MEAS'). Each TDC count corresponds to 25/30 ns, whereas a unit of BX_COUNTER corresponds to 25 ns, and the ORBIT_CNT is increased every `x` BX_COUNTER. This allows to store the time in a similar way to hours, minutes and seconds."
   ]
  },
  {
   "cell_type": "code",
   "execution_count": null,
   "metadata": {},
   "outputs": [],
   "source": [
    "# If haven't downloaded it yet, please get the data file with wget\n",
    "#!wget https://www.dropbox.com/s/xvjzaxzz3ysphme/data_000637.txt -P ./data/"
   ]
  },
  {
   "cell_type": "markdown",
   "metadata": {},
   "source": [
    "1\\. Create a Pandas DataFrame reading N rows of the `data/data_000637.txt` dataset. Choose N to be smaller than or equal to the maximum number of rows and larger that 10k (check the documentation)."
   ]
  },
  {
   "cell_type": "code",
   "execution_count": 11,
   "metadata": {},
   "outputs": [
    {
     "name": "stdout",
     "output_type": "stream",
     "text": [
      "       HEAD  FPGA  TDC_CHANNEL   ORBIT_CNT  BX_COUNTER  TDC_MEAS\n",
      "0         1     0          123  3869200167        2374        26\n",
      "1         1     0          124  3869200167        2374        27\n",
      "2         1     0           63  3869200167        2553        28\n",
      "3         1     0           64  3869200167        2558        19\n",
      "4         1     0           64  3869200167        2760        25\n",
      "...     ...   ...          ...         ...         ...       ...\n",
      "58995     1     1           61  3869200754         110         0\n",
      "58996     1     1          139  3869200754         114         0\n",
      "58997     1     1           63  3869200754         112        28\n",
      "58998     1     0          123  3869200754         165        14\n",
      "58999     1     0           92  3869200754         167         9\n",
      "\n",
      "[59000 rows x 6 columns]\n"
     ]
    },
    {
     "data": {
      "text/html": [
       "<div>\n",
       "<style scoped>\n",
       "    .dataframe tbody tr th:only-of-type {\n",
       "        vertical-align: middle;\n",
       "    }\n",
       "\n",
       "    .dataframe tbody tr th {\n",
       "        vertical-align: top;\n",
       "    }\n",
       "\n",
       "    .dataframe thead th {\n",
       "        text-align: right;\n",
       "    }\n",
       "</style>\n",
       "<table border=\"1\" class=\"dataframe\">\n",
       "  <thead>\n",
       "    <tr style=\"text-align: right;\">\n",
       "      <th></th>\n",
       "      <th>HEAD</th>\n",
       "      <th>FPGA</th>\n",
       "      <th>TDC_CHANNEL</th>\n",
       "      <th>ORBIT_CNT</th>\n",
       "      <th>BX_COUNTER</th>\n",
       "      <th>TDC_MEAS</th>\n",
       "    </tr>\n",
       "  </thead>\n",
       "  <tbody>\n",
       "    <tr>\n",
       "      <th>count</th>\n",
       "      <td>59000.0</td>\n",
       "      <td>59000.000000</td>\n",
       "      <td>59000.000000</td>\n",
       "      <td>5.900000e+04</td>\n",
       "      <td>59000.000000</td>\n",
       "      <td>59000.000000</td>\n",
       "    </tr>\n",
       "    <tr>\n",
       "      <th>mean</th>\n",
       "      <td>1.0</td>\n",
       "      <td>0.293373</td>\n",
       "      <td>56.101220</td>\n",
       "      <td>3.869200e+09</td>\n",
       "      <td>1788.442119</td>\n",
       "      <td>13.351305</td>\n",
       "    </tr>\n",
       "    <tr>\n",
       "      <th>std</th>\n",
       "      <td>0.0</td>\n",
       "      <td>0.455312</td>\n",
       "      <td>39.098571</td>\n",
       "      <td>1.692416e+02</td>\n",
       "      <td>1025.448479</td>\n",
       "      <td>9.188582</td>\n",
       "    </tr>\n",
       "    <tr>\n",
       "      <th>min</th>\n",
       "      <td>1.0</td>\n",
       "      <td>0.000000</td>\n",
       "      <td>1.000000</td>\n",
       "      <td>3.869200e+09</td>\n",
       "      <td>0.000000</td>\n",
       "      <td>0.000000</td>\n",
       "    </tr>\n",
       "    <tr>\n",
       "      <th>25%</th>\n",
       "      <td>1.0</td>\n",
       "      <td>0.000000</td>\n",
       "      <td>26.000000</td>\n",
       "      <td>3.869200e+09</td>\n",
       "      <td>893.000000</td>\n",
       "      <td>5.000000</td>\n",
       "    </tr>\n",
       "    <tr>\n",
       "      <th>50%</th>\n",
       "      <td>1.0</td>\n",
       "      <td>0.000000</td>\n",
       "      <td>57.000000</td>\n",
       "      <td>3.869200e+09</td>\n",
       "      <td>1792.000000</td>\n",
       "      <td>13.000000</td>\n",
       "    </tr>\n",
       "    <tr>\n",
       "      <th>75%</th>\n",
       "      <td>1.0</td>\n",
       "      <td>1.000000</td>\n",
       "      <td>64.000000</td>\n",
       "      <td>3.869201e+09</td>\n",
       "      <td>2676.000000</td>\n",
       "      <td>21.000000</td>\n",
       "    </tr>\n",
       "    <tr>\n",
       "      <th>max</th>\n",
       "      <td>1.0</td>\n",
       "      <td>1.000000</td>\n",
       "      <td>139.000000</td>\n",
       "      <td>3.869201e+09</td>\n",
       "      <td>3563.000000</td>\n",
       "      <td>29.000000</td>\n",
       "    </tr>\n",
       "  </tbody>\n",
       "</table>\n",
       "</div>"
      ],
      "text/plain": [
       "          HEAD          FPGA   TDC_CHANNEL     ORBIT_CNT    BX_COUNTER  \\\n",
       "count  59000.0  59000.000000  59000.000000  5.900000e+04  59000.000000   \n",
       "mean       1.0      0.293373     56.101220  3.869200e+09   1788.442119   \n",
       "std        0.0      0.455312     39.098571  1.692416e+02   1025.448479   \n",
       "min        1.0      0.000000      1.000000  3.869200e+09      0.000000   \n",
       "25%        1.0      0.000000     26.000000  3.869200e+09    893.000000   \n",
       "50%        1.0      0.000000     57.000000  3.869200e+09   1792.000000   \n",
       "75%        1.0      1.000000     64.000000  3.869201e+09   2676.000000   \n",
       "max        1.0      1.000000    139.000000  3.869201e+09   3563.000000   \n",
       "\n",
       "           TDC_MEAS  \n",
       "count  59000.000000  \n",
       "mean      13.351305  \n",
       "std        9.188582  \n",
       "min        0.000000  \n",
       "25%        5.000000  \n",
       "50%       13.000000  \n",
       "75%       21.000000  \n",
       "max       29.000000  "
      ]
     },
     "execution_count": 11,
     "metadata": {},
     "output_type": "execute_result"
    }
   ],
   "source": [
    "import pandas as pd\n",
    "import numpy as np\n",
    "#!wget https://www.dropbox.com/s/xvjzaxzz3ysphme/data_000637.txt -P ./data/\n",
    "file = \"./data_000637.txt\"\n",
    "N=59000\n",
    "data = pd.read_csv(file, sep=',',nrows=N)\n",
    "print(data)\n",
    "data.describe()"
   ]
  },
  {
   "cell_type": "code",
   "execution_count": 10,
   "metadata": {},
   "outputs": [
    {
     "data": {
      "text/html": [
       "<div>\n",
       "<style scoped>\n",
       "    .dataframe tbody tr th:only-of-type {\n",
       "        vertical-align: middle;\n",
       "    }\n",
       "\n",
       "    .dataframe tbody tr th {\n",
       "        vertical-align: top;\n",
       "    }\n",
       "\n",
       "    .dataframe thead th {\n",
       "        text-align: right;\n",
       "    }\n",
       "</style>\n",
       "<table border=\"1\" class=\"dataframe\">\n",
       "  <thead>\n",
       "    <tr style=\"text-align: right;\">\n",
       "      <th></th>\n",
       "      <th>HEAD</th>\n",
       "      <th>FPGA</th>\n",
       "      <th>TDC_CHANNEL</th>\n",
       "      <th>ORBIT_CNT</th>\n",
       "      <th>BX_COUNTER</th>\n",
       "      <th>TDC_MEAS</th>\n",
       "    </tr>\n",
       "  </thead>\n",
       "  <tbody>\n",
       "    <tr>\n",
       "      <th>0</th>\n",
       "      <td>1</td>\n",
       "      <td>0</td>\n",
       "      <td>123</td>\n",
       "      <td>3869200167</td>\n",
       "      <td>2374</td>\n",
       "      <td>26</td>\n",
       "    </tr>\n",
       "    <tr>\n",
       "      <th>1</th>\n",
       "      <td>1</td>\n",
       "      <td>0</td>\n",
       "      <td>124</td>\n",
       "      <td>3869200167</td>\n",
       "      <td>2374</td>\n",
       "      <td>27</td>\n",
       "    </tr>\n",
       "    <tr>\n",
       "      <th>2</th>\n",
       "      <td>1</td>\n",
       "      <td>0</td>\n",
       "      <td>63</td>\n",
       "      <td>3869200167</td>\n",
       "      <td>2553</td>\n",
       "      <td>28</td>\n",
       "    </tr>\n",
       "    <tr>\n",
       "      <th>3</th>\n",
       "      <td>1</td>\n",
       "      <td>0</td>\n",
       "      <td>64</td>\n",
       "      <td>3869200167</td>\n",
       "      <td>2558</td>\n",
       "      <td>19</td>\n",
       "    </tr>\n",
       "    <tr>\n",
       "      <th>4</th>\n",
       "      <td>1</td>\n",
       "      <td>0</td>\n",
       "      <td>64</td>\n",
       "      <td>3869200167</td>\n",
       "      <td>2760</td>\n",
       "      <td>25</td>\n",
       "    </tr>\n",
       "    <tr>\n",
       "      <th>...</th>\n",
       "      <td>...</td>\n",
       "      <td>...</td>\n",
       "      <td>...</td>\n",
       "      <td>...</td>\n",
       "      <td>...</td>\n",
       "      <td>...</td>\n",
       "    </tr>\n",
       "    <tr>\n",
       "      <th>58995</th>\n",
       "      <td>1</td>\n",
       "      <td>1</td>\n",
       "      <td>61</td>\n",
       "      <td>3869200754</td>\n",
       "      <td>110</td>\n",
       "      <td>0</td>\n",
       "    </tr>\n",
       "    <tr>\n",
       "      <th>58996</th>\n",
       "      <td>1</td>\n",
       "      <td>1</td>\n",
       "      <td>139</td>\n",
       "      <td>3869200754</td>\n",
       "      <td>114</td>\n",
       "      <td>0</td>\n",
       "    </tr>\n",
       "    <tr>\n",
       "      <th>58997</th>\n",
       "      <td>1</td>\n",
       "      <td>1</td>\n",
       "      <td>63</td>\n",
       "      <td>3869200754</td>\n",
       "      <td>112</td>\n",
       "      <td>28</td>\n",
       "    </tr>\n",
       "    <tr>\n",
       "      <th>58998</th>\n",
       "      <td>1</td>\n",
       "      <td>0</td>\n",
       "      <td>123</td>\n",
       "      <td>3869200754</td>\n",
       "      <td>165</td>\n",
       "      <td>14</td>\n",
       "    </tr>\n",
       "    <tr>\n",
       "      <th>58999</th>\n",
       "      <td>1</td>\n",
       "      <td>0</td>\n",
       "      <td>92</td>\n",
       "      <td>3869200754</td>\n",
       "      <td>167</td>\n",
       "      <td>9</td>\n",
       "    </tr>\n",
       "  </tbody>\n",
       "</table>\n",
       "<p>59000 rows × 6 columns</p>\n",
       "</div>"
      ],
      "text/plain": [
       "       HEAD  FPGA  TDC_CHANNEL   ORBIT_CNT  BX_COUNTER  TDC_MEAS\n",
       "0         1     0          123  3869200167        2374        26\n",
       "1         1     0          124  3869200167        2374        27\n",
       "2         1     0           63  3869200167        2553        28\n",
       "3         1     0           64  3869200167        2558        19\n",
       "4         1     0           64  3869200167        2760        25\n",
       "...     ...   ...          ...         ...         ...       ...\n",
       "58995     1     1           61  3869200754         110         0\n",
       "58996     1     1          139  3869200754         114         0\n",
       "58997     1     1           63  3869200754         112        28\n",
       "58998     1     0          123  3869200754         165        14\n",
       "58999     1     0           92  3869200754         167         9\n",
       "\n",
       "[59000 rows x 6 columns]"
      ]
     },
     "execution_count": 10,
     "metadata": {},
     "output_type": "execute_result"
    }
   ],
   "source": [
    "data"
   ]
  },
  {
   "cell_type": "markdown",
   "metadata": {},
   "source": [
    "2\\. Estimate the number of BX in a ORBIT (the value `x`).\n",
    "\n",
    "*Hint*: check when the BX counter reaches the maximum value before being reset to 0."
   ]
  },
  {
   "cell_type": "code",
   "execution_count": 17,
   "metadata": {},
   "outputs": [
    {
     "name": "stdout",
     "output_type": "stream",
     "text": [
      " BX counter resets at row:  2894  The value:  0\n",
      "Maximum value before being reset to 0: 3563  Row:  2893\n",
      "x = 3563\n"
     ]
    }
   ],
   "source": [
    "for i in range (N):\n",
    "    if data.iloc[i]['BX_COUNTER'] == 0:\n",
    "        print(\" BX counter resets at row: \", i, \" The value: \", data.iloc[i]['BX_COUNTER'])\n",
    "        print(\"Maximum value before being reset to 0:\", data.iloc[i-1]['BX_COUNTER'], \" Row: \", i-1)\n",
    "        x = data.iloc[i-1]['BX_COUNTER']\n",
    "        break\n",
    "print(\"x =\", x)"
   ]
  },
  {
   "cell_type": "markdown",
   "metadata": {},
   "source": [
    "3\\. Create a new column with the absolute time in ns (as a combination of the other three columns with timing information) since the beginning of the data acquisition, and convert the new column to a Time Series."
   ]
  },
  {
   "cell_type": "code",
   "execution_count": 21,
   "metadata": {},
   "outputs": [
    {
     "data": {
      "text/html": [
       "<div>\n",
       "<style scoped>\n",
       "    .dataframe tbody tr th:only-of-type {\n",
       "        vertical-align: middle;\n",
       "    }\n",
       "\n",
       "    .dataframe tbody tr th {\n",
       "        vertical-align: top;\n",
       "    }\n",
       "\n",
       "    .dataframe thead th {\n",
       "        text-align: right;\n",
       "    }\n",
       "</style>\n",
       "<table border=\"1\" class=\"dataframe\">\n",
       "  <thead>\n",
       "    <tr style=\"text-align: right;\">\n",
       "      <th></th>\n",
       "      <th>HEAD</th>\n",
       "      <th>FPGA</th>\n",
       "      <th>TDC_CHANNEL</th>\n",
       "      <th>ORBIT_CNT</th>\n",
       "      <th>BX_COUNTER</th>\n",
       "      <th>TDC_MEAS</th>\n",
       "      <th>ABSOLUTE_TIME</th>\n",
       "    </tr>\n",
       "  </thead>\n",
       "  <tbody>\n",
       "    <tr>\n",
       "      <th>0</th>\n",
       "      <td>1.000000e-09</td>\n",
       "      <td>0.000000e+00</td>\n",
       "      <td>1.230000e-07</td>\n",
       "      <td>3.869200</td>\n",
       "      <td>2.374000e-06</td>\n",
       "      <td>2.600000e-08</td>\n",
       "      <td>3.869203</td>\n",
       "    </tr>\n",
       "    <tr>\n",
       "      <th>1</th>\n",
       "      <td>1.000000e-09</td>\n",
       "      <td>0.000000e+00</td>\n",
       "      <td>1.240000e-07</td>\n",
       "      <td>3.869200</td>\n",
       "      <td>2.374000e-06</td>\n",
       "      <td>2.700000e-08</td>\n",
       "      <td>3.869203</td>\n",
       "    </tr>\n",
       "    <tr>\n",
       "      <th>2</th>\n",
       "      <td>1.000000e-09</td>\n",
       "      <td>0.000000e+00</td>\n",
       "      <td>6.300000e-08</td>\n",
       "      <td>3.869200</td>\n",
       "      <td>2.553000e-06</td>\n",
       "      <td>2.800000e-08</td>\n",
       "      <td>3.869203</td>\n",
       "    </tr>\n",
       "    <tr>\n",
       "      <th>3</th>\n",
       "      <td>1.000000e-09</td>\n",
       "      <td>0.000000e+00</td>\n",
       "      <td>6.400000e-08</td>\n",
       "      <td>3.869200</td>\n",
       "      <td>2.558000e-06</td>\n",
       "      <td>1.900000e-08</td>\n",
       "      <td>3.869203</td>\n",
       "    </tr>\n",
       "    <tr>\n",
       "      <th>4</th>\n",
       "      <td>1.000000e-09</td>\n",
       "      <td>0.000000e+00</td>\n",
       "      <td>6.400000e-08</td>\n",
       "      <td>3.869200</td>\n",
       "      <td>2.760000e-06</td>\n",
       "      <td>2.500000e-08</td>\n",
       "      <td>3.869203</td>\n",
       "    </tr>\n",
       "    <tr>\n",
       "      <th>...</th>\n",
       "      <td>...</td>\n",
       "      <td>...</td>\n",
       "      <td>...</td>\n",
       "      <td>...</td>\n",
       "      <td>...</td>\n",
       "      <td>...</td>\n",
       "      <td>...</td>\n",
       "    </tr>\n",
       "    <tr>\n",
       "      <th>58995</th>\n",
       "      <td>1.000000e-09</td>\n",
       "      <td>1.000000e-09</td>\n",
       "      <td>6.100000e-08</td>\n",
       "      <td>3.869201</td>\n",
       "      <td>1.100000e-07</td>\n",
       "      <td>0.000000e+00</td>\n",
       "      <td>3.869201</td>\n",
       "    </tr>\n",
       "    <tr>\n",
       "      <th>58996</th>\n",
       "      <td>1.000000e-09</td>\n",
       "      <td>1.000000e-09</td>\n",
       "      <td>1.390000e-07</td>\n",
       "      <td>3.869201</td>\n",
       "      <td>1.140000e-07</td>\n",
       "      <td>0.000000e+00</td>\n",
       "      <td>3.869201</td>\n",
       "    </tr>\n",
       "    <tr>\n",
       "      <th>58997</th>\n",
       "      <td>1.000000e-09</td>\n",
       "      <td>1.000000e-09</td>\n",
       "      <td>6.300000e-08</td>\n",
       "      <td>3.869201</td>\n",
       "      <td>1.120000e-07</td>\n",
       "      <td>2.800000e-08</td>\n",
       "      <td>3.869201</td>\n",
       "    </tr>\n",
       "    <tr>\n",
       "      <th>58998</th>\n",
       "      <td>1.000000e-09</td>\n",
       "      <td>0.000000e+00</td>\n",
       "      <td>1.230000e-07</td>\n",
       "      <td>3.869201</td>\n",
       "      <td>1.650000e-07</td>\n",
       "      <td>1.400000e-08</td>\n",
       "      <td>3.869201</td>\n",
       "    </tr>\n",
       "    <tr>\n",
       "      <th>58999</th>\n",
       "      <td>1.000000e-09</td>\n",
       "      <td>0.000000e+00</td>\n",
       "      <td>9.200000e-08</td>\n",
       "      <td>3.869201</td>\n",
       "      <td>1.670000e-07</td>\n",
       "      <td>9.000000e-09</td>\n",
       "      <td>3.869201</td>\n",
       "    </tr>\n",
       "  </tbody>\n",
       "</table>\n",
       "<p>59000 rows × 7 columns</p>\n",
       "</div>"
      ],
      "text/plain": [
       "               HEAD          FPGA   TDC_CHANNEL  ORBIT_CNT    BX_COUNTER  \\\n",
       "0      1.000000e-09  0.000000e+00  1.230000e-07   3.869200  2.374000e-06   \n",
       "1      1.000000e-09  0.000000e+00  1.240000e-07   3.869200  2.374000e-06   \n",
       "2      1.000000e-09  0.000000e+00  6.300000e-08   3.869200  2.553000e-06   \n",
       "3      1.000000e-09  0.000000e+00  6.400000e-08   3.869200  2.558000e-06   \n",
       "4      1.000000e-09  0.000000e+00  6.400000e-08   3.869200  2.760000e-06   \n",
       "...             ...           ...           ...        ...           ...   \n",
       "58995  1.000000e-09  1.000000e-09  6.100000e-08   3.869201  1.100000e-07   \n",
       "58996  1.000000e-09  1.000000e-09  1.390000e-07   3.869201  1.140000e-07   \n",
       "58997  1.000000e-09  1.000000e-09  6.300000e-08   3.869201  1.120000e-07   \n",
       "58998  1.000000e-09  0.000000e+00  1.230000e-07   3.869201  1.650000e-07   \n",
       "58999  1.000000e-09  0.000000e+00  9.200000e-08   3.869201  1.670000e-07   \n",
       "\n",
       "           TDC_MEAS  ABSOLUTE_TIME  \n",
       "0      2.600000e-08       3.869203  \n",
       "1      2.700000e-08       3.869203  \n",
       "2      2.800000e-08       3.869203  \n",
       "3      1.900000e-08       3.869203  \n",
       "4      2.500000e-08       3.869203  \n",
       "...             ...            ...  \n",
       "58995  0.000000e+00       3.869201  \n",
       "58996  0.000000e+00       3.869201  \n",
       "58997  2.800000e-08       3.869201  \n",
       "58998  1.400000e-08       3.869201  \n",
       "58999  9.000000e-09       3.869201  \n",
       "\n",
       "[59000 rows x 7 columns]"
      ]
     },
     "execution_count": 21,
     "metadata": {},
     "output_type": "execute_result"
    }
   ],
   "source": [
    "import datetime as td\n",
    "data = data.assign(ABSOLUTE_TIME=data['BX_COUNTER'] + data['TDC_MEAS'] +data['ORBIT_CNT'])\n",
    "data/10**9"
   ]
  },
  {
   "cell_type": "markdown",
   "metadata": {},
   "source": [
    "4\\. Find out the duration of the data taking in hours, minutes and seconds, by using the features of the Time Series. Perform this check reading the whole dataset."
   ]
  },
  {
   "cell_type": "code",
   "execution_count": 32,
   "metadata": {},
   "outputs": [
    {
     "name": "stdout",
     "output_type": "stream",
     "text": [
      "The duration for each: 0                           NaT\n",
      "1     0 days 00:00:00.000000001\n",
      "2     0 days 00:00:00.000000180\n",
      "3   -1 days +23:59:59.999999996\n",
      "4     0 days 00:00:00.000000208\n",
      "Name: DURATION, dtype: timedelta64[ns]\n",
      "The duration for the whole data: 0 days 00:00:00.000004139\n"
     ]
    }
   ],
   "source": [
    "data['DURATION'] = pd.to_timedelta(data['ABSOLUTE_TIME'])\n",
    "print(\"The duration for each:\", data['DURATION'][0:5].diff())\n",
    "print(\"The duration for the whole data:\", (data['DURATION'].max() - data['DURATION'].min()))"
   ]
  },
  {
   "cell_type": "markdown",
   "metadata": {},
   "source": [
    "5\\. Use the `.groupby()` method to find out the noisy channels, i.e. the TDC channels with most counts (print to screen the top 3 and the corresponding counts)"
   ]
  },
  {
   "cell_type": "code",
   "execution_count": 54,
   "metadata": {},
   "outputs": [
    {
     "name": "stdout",
     "output_type": "stream",
     "text": [
      "HEAD    \n",
      "1     7     139\n",
      "      15    139\n",
      "      30    139\n",
      "Name: TDC_CHANNEL, dtype: int64\n"
     ]
    }
   ],
   "source": [
    "print(data.groupby('HEAD')['TDC_CHANNEL'].nlargest(3)) #The top 3 TDC_CHANNELS"
   ]
  },
  {
   "cell_type": "markdown",
   "metadata": {},
   "source": [
    "6\\. Count the number of non-empty orbits (i.e. the number of orbits with at least one hit)."
   ]
  },
  {
   "cell_type": "code",
   "execution_count": 40,
   "metadata": {},
   "outputs": [
    {
     "name": "stdout",
     "output_type": "stream",
     "text": [
      "588\n"
     ]
    }
   ],
   "source": [
    "count = data.ORBIT_CNT.unique().size\n",
    "print(str(count)) #number of non-empty orbits"
   ]
  },
  {
   "cell_type": "markdown",
   "metadata": {},
   "source": [
    "7\\. Count the number of unique orbits with at least one measurement from TDC_CHANNEL=139."
   ]
  },
  {
   "cell_type": "code",
   "execution_count": 46,
   "metadata": {},
   "outputs": [
    {
     "name": "stdout",
     "output_type": "stream",
     "text": [
      "\n",
      "The number of unique orbits with at least one measurement from TDC_CHANNEL = 139 is  587\n"
     ]
    }
   ],
   "source": [
    "uo = pd.DataFrame(data[data['TDC_CHANNEL'] == 139]).drop_duplicates(subset=['ORBIT_CNT'], inplace=False)\n",
    "print(\"\\nThe number of unique orbits with at least one measurement from TDC_CHANNEL = 139 is \", len(uo))"
   ]
  },
  {
   "cell_type": "markdown",
   "metadata": {},
   "source": [
    "8\\. Create two Series (one for each FPGA) that have the TDC channel as index, and the number of counts for the corresponding TDC channel as values."
   ]
  },
  {
   "cell_type": "code",
   "execution_count": 49,
   "metadata": {},
   "outputs": [
    {
     "name": "stdout",
     "output_type": "stream",
     "text": [
      "139    3446\n",
      "64     2919\n",
      "63     2892\n",
      "61     2198\n",
      "62     2188\n",
      "       ... \n",
      "104      22\n",
      "103      20\n",
      "106      19\n",
      "101      16\n",
      "67        8\n",
      "Name: TDC_CHANNEL, Length: 118, dtype: int64\n",
      "139    1462\n",
      "2      1429\n",
      "1      1261\n",
      "4      1171\n",
      "3       999\n",
      "       ... \n",
      "94        4\n",
      "78        4\n",
      "86        4\n",
      "91        2\n",
      "130       2\n",
      "Name: TDC_CHANNEL, Length: 129, dtype: int64\n"
     ]
    }
   ],
   "source": [
    "FPGA1 = pd.Series(data[data['FPGA'] == 0]['TDC_CHANNEL'].value_counts())\n",
    "print(FPGA1) #Series 1\n",
    "FPGA2 = pd.Series(data[data['FPGA'] == 1]['TDC_CHANNEL'].value_counts())\n",
    "print(FPGA2) #Series 2"
   ]
  },
  {
   "cell_type": "markdown",
   "metadata": {},
   "source": [
    "9\\. **Optional:** Create two histograms (one for each FPGA) that show the number of counts for each TDC channel."
   ]
  },
  {
   "cell_type": "code",
   "execution_count": null,
   "metadata": {},
   "outputs": [],
   "source": []
  }
 ],
 "metadata": {
  "kernelspec": {
   "display_name": "Python 3 (ipykernel)",
   "language": "python",
   "name": "python3"
  },
  "language_info": {
   "codemirror_mode": {
    "name": "ipython",
    "version": 3
   },
   "file_extension": ".py",
   "mimetype": "text/x-python",
   "name": "python",
   "nbconvert_exporter": "python",
   "pygments_lexer": "ipython3",
   "version": "3.9.12"
  }
 },
 "nbformat": 4,
 "nbformat_minor": 2
}
