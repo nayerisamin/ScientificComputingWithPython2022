{
 "cells": [
  {
   "cell_type": "markdown",
   "metadata": {},
   "source": [
    "1\\. **Reductions**\n",
    "\n",
    "Find the total mean, and the mean for each row and column of the following matrix:\n",
    "\n",
    "```python\n",
    "m = np.arange(12).reshape((3,4))\n",
    "```"
   ]
  },
  {
   "cell_type": "code",
   "execution_count": 8,
   "metadata": {},
   "outputs": [
    {
     "name": "stdout",
     "output_type": "stream",
     "text": [
      "[[ 0  1  2  3]\n",
      " [ 4  5  6  7]\n",
      " [ 8  9 10 11]]\n",
      "the total mean: 5.5\n",
      "mean for each column: [4. 5. 6. 7.]\n",
      "mean for each rows: [1.5 5.5 9.5]\n"
     ]
    }
   ],
   "source": [
    "import numpy as np\n",
    "m = np.arange(12).reshape(3,4)\n",
    "print(m)\n",
    "print(\"the total mean:\",np.mean(m))\n",
    "print(\"mean for each column:\", m.mean(axis=0))\n",
    "print(\"mean for each rows:\", m.mean(axis=1))"
   ]
  },
  {
   "cell_type": "markdown",
   "metadata": {},
   "source": [
    "# 2\\. **Outer product**\n",
    "\n",
    "Find the outer product of the following vectors:\n",
    "\n",
    "```python\n",
    "u = np.array([1, 3, 5, 7])\n",
    "v = np.array([2, 4, 6, 8])\n",
    "```\n",
    "\n",
    "Use different methods to do this:\n",
    "\n",
    "   1. Using the function `outer` in numpy\n",
    "   2. Using a nested `for` loop or a list comprehension\n",
    "   3. Using numpy broadcasting operations"
   ]
  },
  {
   "cell_type": "code",
   "execution_count": 3,
   "metadata": {},
   "outputs": [
    {
     "name": "stdout",
     "output_type": "stream",
     "text": [
      "[[ 2  4  6  8]\n",
      " [ 6 12 18 24]\n",
      " [10 20 30 40]\n",
      " [14 28 42 56]]\n",
      "\n",
      " [[ 2  4  6  8]\n",
      " [ 6 12 18 24]\n",
      " [10 20 30 40]\n",
      " [14 28 42 56]]\n"
     ]
    }
   ],
   "source": [
    "import numpy as np\n",
    "u = np.array([1, 3, 5, 7])\n",
    "v = np.array([2, 4, 6, 8])\n",
    "print(np.outer(u,v)) #using the function outer\n",
    "print(\"\\n\", np.tile(v, (4, 1)) * u.reshape(4, 1)) #using broadcasting operations"
   ]
  },
  {
   "cell_type": "markdown",
   "metadata": {},
   "source": [
    "3\\. **Matrix masking**\n",
    "\n",
    "Create a 10 by 6 matrix of float random numbers, distributed between 0 and 3 according to a flat distribution.\n",
    "\n",
    "After creating the matrix, set all entries $< 0.3$ to zero using a mask."
   ]
  },
  {
   "cell_type": "code",
   "execution_count": 2,
   "metadata": {},
   "outputs": [
    {
     "name": "stdout",
     "output_type": "stream",
     "text": [
      "the randoma matrix: [[1.05132187 1.93618447 2.79689138 0.00342275 0.59308247 0.16097708]\n",
      " [2.9407129  1.21102901 0.2624982  0.70338938 1.76916535 2.31719698]\n",
      " [0.10946176 1.06177315 2.50623884 2.7299979  2.67961658 2.67756353]\n",
      " [2.18150461 0.87884618 0.97299811 1.36426347 1.38474892 0.16587108]\n",
      " [1.22626595 1.17407581 1.24769748 2.9151732  2.22860244 0.59018928]\n",
      " [1.75142981 1.39911063 0.93311974 1.86133257 0.21508703 2.87687209]\n",
      " [2.43621082 0.48021411 1.82460663 1.14884824 2.17079886 0.47931099]\n",
      " [1.02771545 2.10828953 2.31029634 0.34573847 0.7866559  1.17264037]\n",
      " [1.78638427 0.69652394 0.41156007 0.96465443 1.29486285 2.93426518]\n",
      " [1.13913883 1.10072658 2.76798909 0.48175057 0.19202023 2.59429535]] \n",
      "\n",
      "the masked matrix: [0.00342275 0.16097708 0.2624982  0.10946176 0.16587108 0.21508703\n",
      " 0.19202023] \n",
      "\n"
     ]
    }
   ],
   "source": [
    "import numpy as np\n",
    "a = np.random.uniform(0, 3, 60).reshape((10,6))\n",
    "print(\"the randoma matrix:\", a, '\\n')\n",
    "mask= (a<0.3)\n",
    "filtered_a = a[mask]\n",
    "print(\"the masked matrix:\", filtered_a, '\\n')"
   ]
  },
  {
   "cell_type": "markdown",
   "metadata": {},
   "source": [
    "4\\. **Trigonometric functions**\n",
    "\n",
    "Use `np.linspace` to create an array of 100 numbers between $0$ and $2\\pi$ (inclusive).\n",
    "\n",
    "  * Extract every 10th element using the slice notation\n",
    "  * Reverse the array using the slice notation\n",
    "  * Extract elements where the absolute difference between the `sin` and `cos` functions evaluated for that element is $< 0.1$\n",
    "  * **Optional**: make a plot showing the sin and cos functions and indicate where they are close"
   ]
  },
  {
   "cell_type": "code",
   "execution_count": 5,
   "metadata": {},
   "outputs": [
    {
     "name": "stdout",
     "output_type": "stream",
     "text": [
      "[0.         0.06346652 0.12693304 0.19039955 0.25386607 0.31733259\n",
      " 0.38079911 0.44426563 0.50773215 0.57119866 0.63466518 0.6981317\n",
      " 0.76159822 0.82506474 0.88853126 0.95199777 1.01546429 1.07893081\n",
      " 1.14239733 1.20586385 1.26933037 1.33279688 1.3962634  1.45972992\n",
      " 1.52319644 1.58666296 1.65012947 1.71359599 1.77706251 1.84052903\n",
      " 1.90399555 1.96746207 2.03092858 2.0943951  2.15786162 2.22132814\n",
      " 2.28479466 2.34826118 2.41172769 2.47519421 2.53866073 2.60212725\n",
      " 2.66559377 2.72906028 2.7925268  2.85599332 2.91945984 2.98292636\n",
      " 3.04639288 3.10985939 3.17332591 3.23679243 3.30025895 3.36372547\n",
      " 3.42719199 3.4906585  3.55412502 3.61759154 3.68105806 3.74452458\n",
      " 3.8079911  3.87145761 3.93492413 3.99839065 4.06185717 4.12532369\n",
      " 4.1887902  4.25225672 4.31572324 4.37918976 4.44265628 4.5061228\n",
      " 4.56958931 4.63305583 4.69652235 4.75998887 4.82345539 4.88692191\n",
      " 4.95038842 5.01385494 5.07732146 5.14078798 5.2042545  5.26772102\n",
      " 5.33118753 5.39465405 5.45812057 5.52158709 5.58505361 5.64852012\n",
      " 5.71198664 5.77545316 5.83891968 5.9023862  5.96585272 6.02931923\n",
      " 6.09278575 6.15625227 6.21971879 6.28318531]\n",
      "[0.         0.63466518 1.26933037 1.90399555 2.53866073 3.17332591\n",
      " 3.8079911  4.44265628 5.07732146 5.71198664]\n",
      "[6.28318531 6.21971879 6.15625227 6.09278575 6.02931923 5.96585272\n",
      " 5.9023862  5.83891968 5.77545316 5.71198664 5.64852012 5.58505361\n",
      " 5.52158709 5.45812057 5.39465405 5.33118753 5.26772102 5.2042545\n",
      " 5.14078798 5.07732146 5.01385494 4.95038842 4.88692191 4.82345539\n",
      " 4.75998887 4.69652235 4.63305583 4.56958931 4.5061228  4.44265628\n",
      " 4.37918976 4.31572324 4.25225672 4.1887902  4.12532369 4.06185717\n",
      " 3.99839065 3.93492413 3.87145761 3.8079911  3.74452458 3.68105806\n",
      " 3.61759154 3.55412502 3.4906585  3.42719199 3.36372547 3.30025895\n",
      " 3.23679243 3.17332591 3.10985939 3.04639288 2.98292636 2.91945984\n",
      " 2.85599332 2.7925268  2.72906028 2.66559377 2.60212725 2.53866073\n",
      " 2.47519421 2.41172769 2.34826118 2.28479466 2.22132814 2.15786162\n",
      " 2.0943951  2.03092858 1.96746207 1.90399555 1.84052903 1.77706251\n",
      " 1.71359599 1.65012947 1.58666296 1.52319644 1.45972992 1.3962634\n",
      " 1.33279688 1.26933037 1.20586385 1.14239733 1.07893081 1.01546429\n",
      " 0.95199777 0.88853126 0.82506474 0.76159822 0.6981317  0.63466518\n",
      " 0.57119866 0.50773215 0.44426563 0.38079911 0.31733259 0.25386607\n",
      " 0.19039955 0.12693304 0.06346652 0.        ]\n",
      "[0.         0.         0.         0.         0.         0.\n",
      " 0.         0.         0.         0.         0.         0.\n",
      " 0.76159822 0.82506474 0.         0.         0.         0.\n",
      " 0.         0.         0.         0.         0.         0.\n",
      " 0.         0.         0.         0.         0.         0.\n",
      " 0.         0.         0.         0.         0.         0.\n",
      " 0.         0.         0.         0.         0.         0.\n",
      " 0.         0.         0.         0.         0.         0.\n",
      " 0.         0.         0.         0.         0.         0.\n",
      " 0.         0.         0.         0.         0.         0.\n",
      " 0.         3.87145761 3.93492413 0.         0.         0.\n",
      " 0.         0.         0.         0.         0.         0.\n",
      " 0.         0.         0.         0.         0.         0.\n",
      " 0.         0.         0.         0.         0.         0.\n",
      " 0.         0.         0.         0.         0.         0.\n",
      " 0.         0.         0.         0.         0.         0.\n",
      " 0.         0.         0.         0.        ]\n"
     ]
    },
    {
     "data": {
      "image/png": "[encoded data removed]",
      "text/plain": [
       "<Figure size 432x288 with 1 Axes>"
      ]
     },
     "metadata": {
      "needs_background": "light"
     },
     "output_type": "display_data"
    }
   ],
   "source": [
    "import numpy as np\n",
    "import matplotlib.pyplot as plt\n",
    "x=np.linspace(0, np.pi*2, 100)\n",
    "print(x) #array of 100 numbers between 0 and 2𝜋\n",
    "b = x[::10]\n",
    "print(b) #every 10th element\n",
    "r = x[::-1] \n",
    "print(r) #reversed array\n",
    "x[abs(np.sin(x)-np.cos(x))>=0.1] = 0\n",
    "print(x) # elements where the absolute difference between the sin and cos functions evaluated for that element is <0.1\n",
    "a = np.sin(x) # x axis values\n",
    "y = np.cos(x) # y axis values\n",
    "mt = abs(np.sin(x)-np.cos(x))\n",
    "plt.plot(a, y)\n",
    "plt.show() # a plot showing the sin and cos functions\n"
   ]
  },
  {
   "cell_type": "markdown",
   "metadata": {},
   "source": [
    "5\\. **Matrices**\n",
    "\n",
    "Create a matrix that shows the 10 by 10 multiplication table.\n",
    "\n",
    " * Find the trace of the matrix\n",
    " * Extract the anti-diagonal matrix (this should be ```array([10, 18, 24, 28, 30, 30, 28, 24, 18, 10])```)\n",
    " * Extract the diagonal offset by 1 upwards (this should be ```array([ 2,  6, 12, 20, 30, 42, 56, 72, 90])```)"
   ]
  },
  {
   "cell_type": "code",
   "execution_count": 15,
   "metadata": {},
   "outputs": [
    {
     "name": "stdout",
     "output_type": "stream",
     "text": [
      "multiplacation:\n",
      " [[  1   2   3   4   5   6   7   8   9  10]\n",
      " [  2   4   6   8  10  12  14  16  18  20]\n",
      " [  3   6   9  12  15  18  21  24  27  30]\n",
      " [  4   8  12  16  20  24  28  32  36  40]\n",
      " [  5  10  15  20  25  30  35  40  45  50]\n",
      " [  6  12  18  24  30  36  42  48  54  60]\n",
      " [  7  14  21  28  35  42  49  56  63  70]\n",
      " [  8  16  24  32  40  48  56  64  72  80]\n",
      " [  9  18  27  36  45  54  63  72  81  90]\n",
      " [ 10  20  30  40  50  60  70  80  90 100]] \n",
      "\n",
      "The trace of the matrix is :  385 \n",
      "\n",
      "Anti-diagonal matrix : \n",
      " [10 18 24 28 30 30 28 24 18 10] \n",
      "\n",
      "diagonal offset by 1: \n",
      " [ 2  6 12 20 30 42 56 72 90] \n",
      "\n"
     ]
    }
   ],
   "source": [
    "m = np.arange(1, 11).reshape(1,10) * np.arange(1, 11).reshape(10,1)\n",
    "print(\"multiplacation:\\n\",m, \"\\n\") #multiplication\n",
    "print(\"The trace of the matrix is : \", np.trace(np.arange(1, 11).reshape(1,10) * np.arange(1, 11).reshape(10,1)), '\\n') #trace\n",
    "rev = np.arange(1, 11).reshape(1,10) * np.arange(1, 11).reshape(10,1)[::-1]\n",
    "print(\"Anti-diagonal matrix : \\n\", rev.diagonal(), '\\n')\n",
    "print(\"diagonal offset by 1: \\n\", m.diagonal(1), '\\n')\n"
   ]
  },
  {
   "cell_type": "markdown",
   "metadata": {},
   "source": [
    "6\\. **Broadcasting**\n",
    "\n",
    "Use broadcasting to create a grid of distances.\n",
    "\n",
    "Route 66 crosses the following cities in the US: Chicago, Springfield, Saint-Louis, Tulsa, Oklahoma City, Amarillo, Santa Fe, Albuquerque, Flagstaff, Los Angeles.\n",
    "\n",
    "The corresponding positions in miles are: 0, 198, 303, 736, 871, 1175, 1475, 1544, 1913, 2448\n",
    "\n",
    "  * Build a 2D grid of distances among each city along Route 66\n",
    "  * Convert the distances in km"
   ]
  },
  {
   "cell_type": "code",
   "execution_count": 8,
   "metadata": {},
   "outputs": [
    {
     "name": "stdout",
     "output_type": "stream",
     "text": [
      "[[   0  198  303  736  871 1175 1475 1544 1913 2448]\n",
      " [ 198    0  105  538  673  977 1277 1346 1715 2250]\n",
      " [ 303  105    0  433  568  872 1172 1241 1610 2145]\n",
      " [ 736  538  433    0  135  439  739  808 1177 1712]\n",
      " [ 871  673  568  135    0  304  604  673 1042 1577]\n",
      " [1175  977  872  439  304    0  300  369  738 1273]\n",
      " [1475 1277 1172  739  604  300    0   69  438  973]\n",
      " [1544 1346 1241  808  673  369   69    0  369  904]\n",
      " [1913 1715 1610 1177 1042  738  438  369    0  535]\n",
      " [2448 2250 2145 1712 1577 1273  973  904  535    0]]\n",
      "[[   0.          318.65011315  487.63123376 1184.47718826 1401.73862905\n",
      "  1890.97920681 2373.78240855 2484.82714495 3078.67508309 3939.67412619]\n",
      " [ 318.65011315    0.          168.98112061  865.82707512 1083.0885159\n",
      "  1572.32909366 2055.1322954  2166.1770318  2760.02496994 3621.02401304]\n",
      " [ 487.63123376  168.98112061    0.          696.84595451  914.10739529\n",
      "  1403.34797305 1886.15117479 1997.19591119 2591.04384933 3452.04289243]\n",
      " [1184.47718826  865.82707512  696.84595451    0.          217.26144078\n",
      "   706.50201854 1189.30522028 1300.34995668 1894.19789482 2755.19693792]\n",
      " [1401.73862905 1083.0885159   914.10739529  217.26144078    0.\n",
      "   489.24057776  972.0437795  1083.0885159  1676.93645404 2537.93549714]\n",
      " [1890.97920681 1572.32909366 1403.34797305  706.50201854  489.24057776\n",
      "     0.          482.80320174  593.84793814 1187.69587628 2048.69491938]\n",
      " [2373.78240855 2055.1322954  1886.15117479 1189.30522028  972.0437795\n",
      "   482.80320174    0.          111.0447364   704.89267454 1565.89171764]\n",
      " [2484.82714495 2166.1770318  1997.19591119 1300.34995668 1083.0885159\n",
      "   593.84793814  111.0447364     0.          593.84793814 1454.84698124]\n",
      " [3078.67508309 2760.02496994 2591.04384933 1894.19789482 1676.93645404\n",
      "  1187.69587628  704.89267454  593.84793814    0.          860.9990431 ]\n",
      " [3939.67412619 3621.02401304 3452.04289243 2755.19693792 2537.93549714\n",
      "  2048.69491938 1565.89171764 1454.84698124  860.9990431     0.        ]]\n"
     ]
    }
   ],
   "source": [
    "import numpy as np\n",
    "route66 = np.array([0, 198, 303, 736, 871, 1175, 1475, 1544,1913, 2448])\n",
    "distances = np.abs(route66 - route66[:, np.newaxis])\n",
    "print(distances) #distances among each city\n",
    "print(distances/0.62137119) #miles to KM\n"
   ]
  },
  {
   "cell_type": "markdown",
   "metadata": {},
   "source": [
    "7\\. **Prime numbers sieve**\n",
    "\n",
    "Compute the prime numbers in the 0-N (start with N=99) range with a sieve (mask).\n",
    "\n",
    "  * Constract a shape (N,) boolean array, which is the mask\n",
    "  * Identify the multiples of each number starting from 2 and set accordingly the corresponding mask element\n",
    "  * Apply the mask to obtain an array of ordered prime numbers\n",
    "  * Check the performances (with `timeit`); how does it scale with N?\n",
    "  * Implement the optimization suggested in the [sieve of Eratosthenes](https://en.wikipedia.org/wiki/Sieve_of_Eratosthenes)"
   ]
  },
  {
   "cell_type": "code",
   "execution_count": null,
   "metadata": {},
   "outputs": [],
   "source": []
  },
  {
   "cell_type": "markdown",
   "metadata": {},
   "source": [
    "8\\. **Diffusion using random walk**\n",
    "\n",
    "Consider a simple random walk process: at each step in time, a walker jumps right or left (+1 or -1) with equal probability. The goal is to find the typical distance from the origin of many random walkers after a given amount of time.\n",
    "\n",
    "*Hint*: create a 2D array where each row represents a walker, and each column represents a time step.\n",
    "\n",
    "  * Take 1000 walkers and let them walk for 200 steps\n",
    "  * Use `randint` to create a 2D array of size $walkers \\times steps$ with values -1 or 1\n",
    "  * Calculate the walking distances for each walker (e.g. by summing the elements in each row)\n",
    "  * Take the square of the previously-obtained array (element-wise)\n",
    "  * Compute the mean of the squared distances at each step (i.e. the mean along the columns)\n",
    "  * **Optional**: plot the average distances ($\\sqrt(distance^2)$) as a function of time (step)"
   ]
  },
  {
   "cell_type": "code",
   "execution_count": 12,
   "metadata": {},
   "outputs": [
    {
     "name": "stdout",
     "output_type": "stream",
     "text": [
      "[[-1  1 -1 ...  1  1 -1]\n",
      " [-1  1  1 ... -1 -1 -1]\n",
      " [ 1  1  1 ...  1 -1 -1]\n",
      " ...\n",
      " [ 1 -1 -1 ...  1 -1  1]\n",
      " [-1 -1 -1 ...  1 -1 -1]\n",
      " [ 1  1 -1 ... -1 -1 -1]]\n",
      "walking distance: [  2  -6  -4   0  -8  -2   0  -4   2  -4 -14 -26   0  -8  -8 -12  -2  26\n",
      "   6  42  -2  10 -38   6   6  10   4  -4   2  16  -2  -4  22  -4  -4 -18\n",
      "  -4   0  -6  30 -14  16  10 -10   2  12 -10  -4   2  12  -6  -2  -6   6\n",
      "   4  14  10  -6  24   4  -2  -6  -2 -22  14 -14  14  -2   4   6 -10  -6\n",
      " -36 -12   6  -2  -6 -10   4  16 -14 -10 -14  -6  16 -12  -2  -8  12 -26\n",
      "   0 -12  10   4  -4 -22  -8  -8  26 -22  12   4  -4 -18  10  16   8   4\n",
      "  -4 -40 -18   6  18 -12 -20  38 -12  14   6  -6  12   0 -22 -10 -20  16\n",
      " -26 -12   6  14   0  -2  48  -8  -8 -18 -12   8  -6  -4  -4  -8   8  24\n",
      "  -6 -14  30  10 -12  14  18   0  -6  28   0   4   2  -6   2 -12 -20  24\n",
      " -14   4  20  -8  10   6  -2   4   4  18  30  -6  -2 -32 -20 -14   2   2\n",
      "  -6 -18   6  -6   4   6 -18 -14   4 -12  12 -28   4  18  -8   0   4  -6\n",
      " -14 -18   0 -26   6 -18   8  -4  -8 -18  -4   6  12   6  -4  -8 -16 -20\n",
      "  -6 -18  14 -14 -26  18  30   8  -6 -10   0   6 -12  16 -10  10  -4  -6\n",
      " -22  32  10 -12   2 -26  12 -10  -6 -26 -32  12  -6 -20 -10   0  -6  10\n",
      " -10 -14  16 -32  18   8  10 -36 -24  12  18  -2   0 -16   0  18  -8  -6\n",
      " -10  22  -4  16  -6  -6  16  14  10   0   4 -10 -22 -20 -14   4  16   6\n",
      "   4   8  -8 -12   0  18   4  16  -2   4  14  16  20  14  -2  -8  12  12\n",
      "   0  -2 -18 -12  24  12  12  -2  -2 -14 -14 -16   4  -4  -8  -6 -16  28\n",
      "  -4   0  10  14 -20   6 -34  16  30 -18  16  -6   4  26   0 -14  10  -2\n",
      "  10  -2   6  -4  -6   2  -6  22 -14  -4  24  -2  28   4  22 -18   0   6\n",
      " -18  14   4  -2   0  16   0   2 -26 -22  10 -10  -8 -14   0   4  -6  18\n",
      "   4  16  -2   6   6 -36 -18  20  24 -14  -6  -8 -22  24  22 -10 -20  -2\n",
      " -12  14  -2  -6  18   2  -8   4 -10  -8 -24  18  -4  -2   0   8  -2  -8\n",
      "   2   0 -10  22  10   0  14  -8  -6  -6   6   2  18 -10   4  16   8  -8\n",
      "  -2 -16   2  -6 -16  22  -2  22   0   4 -18  12  12  12 -14   0  -8  10\n",
      "   6  -4   8  -4  26 -14   0 -14 -20  -4   6   0   0  22  -4  -6 -30  -6\n",
      " -12   2  14  24  -6   0   4  -8  14   0   6  -6 -14  10  26  -4 -16  12\n",
      "  36 -16 -34  10  10  -6   0  24  10   2  16  10  10 -12   6 -12   0  10\n",
      "  -6  -6 -10  -6  -2   8  54  20  30  12 -30  10   8 -10  10 -34   6   6\n",
      " -40 -10  -2   6  10  20  24  -6  -4  -8  18 -14  10  -6 -40  -4  26  -6\n",
      "   6  28  16   8  16  18 -24   6   4  -2  18   0  14 -12   0  10  -8  -8\n",
      "  24   4  -2  -8  -4   6  -4   2 -18  -2   0  -4  -2  18 -10   8 -10   0\n",
      "  40   6  16 -38   2  20 -10   0  -8   0 -22 -28  12 -20  12  10 -10  10\n",
      "  -4   6  18  -6 -12  -6   4   2  24  10  -2 -18  -6   2 -12  12  12  -8\n",
      "  14   2  18  22 -28   8  26 -16  -6  10   2   0 -20 -12   2  -2 -18   6\n",
      " -24  10  -2  -6  12  20   2   0 -14  32 -14  -4  10 -14  -4  14   2   8\n",
      " -26 -26   4  28  -6   8   6  -6   8  14  -4   4  18  12 -18   0  22   2\n",
      " -12 -28 -10   6  20  10  14 -16  -8  18   0  30 -12  -2   0  -2  -8  22\n",
      "  -4  -6  10  -4 -26 -12   8  -6  10  12 -14 -12  26 -18   8   8  -6   8\n",
      " -24  18  42   6  10   2  -8  16 -44   0  -8  -2   6  10   2  -2  -6  10\n",
      "   0  24  26   6   4  12 -16   4 -16 -44 -10   6  10  14  -2 -16 -16 -24\n",
      "  -2  14  14   2 -12   8  16   0 -12   6 -12 -16  -2  -4 -16  14  14   2\n",
      "  22   2 -10  -2   0   8 -10  -4  10   4 -14  20  22 -14  -8  -6   8 -20\n",
      "   0   4  -6 -14   2  26  10   4  12  10  -4  20 -32   2   4  18  -6   8\n",
      "   4   0  20 -14   8  -8 -12   8  38   4 -22  -4 -26  -2   2  18   6  12\n",
      "  16  12 -22   6   0  20  22  20 -12   4  14 -36  -6 -40  18 -28   6  -2\n",
      " -14  -8  -8  22  10   2  32  18   6  16 -10  -4  42   4   2  -8  14  12\n",
      "   2  -4  -6 -12  -8  -6 -10 -16  -8  -2  14   8   2   0 -12   4   0 -28\n",
      "   8  10  -6  -4 -14   2 -20  18  -2   2  24  12  14 -22   6   8  -4 -12\n",
      " -28   2  18 -14   6   6   6   8   6 -10 -24 -10   0  -8  30  12   0  -4\n",
      " -10 -24   8  -4  -2  10 -12  14  30  12  -6   8  14 -46  -6  -6  16  -2\n",
      " -16  20  16 -18   2 -22 -20   8  16 -20 -24 -12  24  24   2   6 -14  -4\n",
      "  24 -14   4   4 -12   8   8  10  18   4 -28  -2  -2  24  -4   4  12   2\n",
      "  14  18  22  14   6   2  16 -32   2  -4 -26  -2   0 -16  16 -16 -28   8\n",
      "   4  -4 -28  -4  -4  40  -4 -34  -6  -8   0   6  22 -30  -4   6  22   0\n",
      " -14  12   8  14  -2   6  -6 -16  12  -2]\n",
      "walking distances square: [   4   36   16    0   64    4    0   16    4   16  196  676    0   64\n",
      "   64  144    4  676   36 1764    4  100 1444   36   36  100   16   16\n",
      "    4  256    4   16  484   16   16  324   16    0   36  900  196  256\n",
      "  100  100    4  144  100   16    4  144   36    4   36   36   16  196\n",
      "  100   36  576   16    4   36    4  484  196  196  196    4   16   36\n",
      "  100   36 1296  144   36    4   36  100   16  256  196  100  196   36\n",
      "  256  144    4   64  144  676    0  144  100   16   16  484   64   64\n",
      "  676  484  144   16   16  324  100  256   64   16   16 1600  324   36\n",
      "  324  144  400 1444  144  196   36   36  144    0  484  100  400  256\n",
      "  676  144   36  196    0    4 2304   64   64  324  144   64   36   16\n",
      "   16   64   64  576   36  196  900  100  144  196  324    0   36  784\n",
      "    0   16    4   36    4  144  400  576  196   16  400   64  100   36\n",
      "    4   16   16  324  900   36    4 1024  400  196    4    4   36  324\n",
      "   36   36   16   36  324  196   16  144  144  784   16  324   64    0\n",
      "   16   36  196  324    0  676   36  324   64   16   64  324   16   36\n",
      "  144   36   16   64  256  400   36  324  196  196  676  324  900   64\n",
      "   36  100    0   36  144  256  100  100   16   36  484 1024  100  144\n",
      "    4  676  144  100   36  676 1024  144   36  400  100    0   36  100\n",
      "  100  196  256 1024  324   64  100 1296  576  144  324    4    0  256\n",
      "    0  324   64   36  100  484   16  256   36   36  256  196  100    0\n",
      "   16  100  484  400  196   16  256   36   16   64   64  144    0  324\n",
      "   16  256    4   16  196  256  400  196    4   64  144  144    0    4\n",
      "  324  144  576  144  144    4    4  196  196  256   16   16   64   36\n",
      "  256  784   16    0  100  196  400   36 1156  256  900  324  256   36\n",
      "   16  676    0  196  100    4  100    4   36   16   36    4   36  484\n",
      "  196   16  576    4  784   16  484  324    0   36  324  196   16    4\n",
      "    0  256    0    4  676  484  100  100   64  196    0   16   36  324\n",
      "   16  256    4   36   36 1296  324  400  576  196   36   64  484  576\n",
      "  484  100  400    4  144  196    4   36  324    4   64   16  100   64\n",
      "  576  324   16    4    0   64    4   64    4    0  100  484  100    0\n",
      "  196   64   36   36   36    4  324  100   16  256   64   64    4  256\n",
      "    4   36  256  484    4  484    0   16  324  144  144  144  196    0\n",
      "   64  100   36   16   64   16  676  196    0  196  400   16   36    0\n",
      "    0  484   16   36  900   36  144    4  196  576   36    0   16   64\n",
      "  196    0   36   36  196  100  676   16  256  144 1296  256 1156  100\n",
      "  100   36    0  576  100    4  256  100  100  144   36  144    0  100\n",
      "   36   36  100   36    4   64 2916  400  900  144  900  100   64  100\n",
      "  100 1156   36   36 1600  100    4   36  100  400  576   36   16   64\n",
      "  324  196  100   36 1600   16  676   36   36  784  256   64  256  324\n",
      "  576   36   16    4  324    0  196  144    0  100   64   64  576   16\n",
      "    4   64   16   36   16    4  324    4    0   16    4  324  100   64\n",
      "  100    0 1600   36  256 1444    4  400  100    0   64    0  484  784\n",
      "  144  400  144  100  100  100   16   36  324   36  144   36   16    4\n",
      "  576  100    4  324   36    4  144  144  144   64  196    4  324  484\n",
      "  784   64  676  256   36  100    4    0  400  144    4    4  324   36\n",
      "  576  100    4   36  144  400    4    0  196 1024  196   16  100  196\n",
      "   16  196    4   64  676  676   16  784   36   64   36   36   64  196\n",
      "   16   16  324  144  324    0  484    4  144  784  100   36  400  100\n",
      "  196  256   64  324    0  900  144    4    0    4   64  484   16   36\n",
      "  100   16  676  144   64   36  100  144  196  144  676  324   64   64\n",
      "   36   64  576  324 1764   36  100    4   64  256 1936    0   64    4\n",
      "   36  100    4    4   36  100    0  576  676   36   16  144  256   16\n",
      "  256 1936  100   36  100  196    4  256  256  576    4  196  196    4\n",
      "  144   64  256    0  144   36  144  256    4   16  256  196  196    4\n",
      "  484    4  100    4    0   64  100   16  100   16  196  400  484  196\n",
      "   64   36   64  400    0   16   36  196    4  676  100   16  144  100\n",
      "   16  400 1024    4   16  324   36   64   16    0  400  196   64   64\n",
      "  144   64 1444   16  484   16  676    4    4  324   36  144  256  144\n",
      "  484   36    0  400  484  400  144   16  196 1296   36 1600  324  784\n",
      "   36    4  196   64   64  484  100    4 1024  324   36  256  100   16\n",
      " 1764   16    4   64  196  144    4   16   36  144   64   36  100  256\n",
      "   64    4  196   64    4    0  144   16    0  784   64  100   36   16\n",
      "  196    4  400  324    4    4  576  144  196  484   36   64   16  144\n",
      "  784    4  324  196   36   36   36   64   36  100  576  100    0   64\n",
      "  900  144    0   16  100  576   64   16    4  100  144  196  900  144\n",
      "   36   64  196 2116   36   36  256    4  256  400  256  324    4  484\n",
      "  400   64  256  400  576  144  576  576    4   36  196   16  576  196\n",
      "   16   16  144   64   64  100  324   16  784    4    4  576   16   16\n",
      "  144    4  196  324  484  196   36    4  256 1024    4   16  676    4\n",
      "    0  256  256  256  784   64   16   16  784   16   16 1600   16 1156\n",
      "   36   64    0   36  484  900   16   36  484    0  196  144   64  196\n",
      "    4   36   36  256  144    4]\n",
      "[4.0, 40.0, 56.0, 56.0, 120.0, 124.0, 124.0, 140.0, 144.0, 160.0, 356.0, 1032.0, 1032.0, 1096.0, 1160.0, 1304.0, 1308.0, 1984.0, 2020.0, 3784.0, 3788.0, 3888.0, 5332.0, 5368.0, 5404.0, 5504.0, 5520.0, 5536.0, 5540.0, 5796.0, 5800.0, 5816.0, 6300.0, 6316.0, 6332.0, 6656.0, 6672.0, 6672.0, 6708.0, 7608.0, 7804.0, 8060.0, 8160.0, 8260.0, 8264.0, 8408.0, 8508.0, 8524.0, 8528.0, 8672.0, 8708.0, 8712.0, 8748.0, 8784.0, 8800.0, 8996.0, 9096.0, 9132.0, 9708.0, 9724.0, 9728.0, 9764.0, 9768.0, 10252.0, 10448.0, 10644.0, 10840.0, 10844.0, 10860.0, 10896.0, 10996.0, 11032.0, 12328.0, 12472.0, 12508.0, 12512.0, 12548.0, 12648.0, 12664.0, 12920.0, 13116.0, 13216.0, 13412.0, 13448.0, 13704.0, 13848.0, 13852.0, 13916.0, 14060.0, 14736.0, 14736.0, 14880.0, 14980.0, 14996.0, 15012.0, 15496.0, 15560.0, 15624.0, 16300.0, 16784.0, 16928.0, 16944.0, 16960.0, 17284.0, 17384.0, 17640.0, 17704.0, 17720.0, 17736.0, 19336.0, 19660.0, 19696.0, 20020.0, 20164.0, 20564.0, 22008.0, 22152.0, 22348.0, 22384.0, 22420.0, 22564.0, 22564.0, 23048.0, 23148.0, 23548.0, 23804.0, 24480.0, 24624.0, 24660.0, 24856.0, 24856.0, 24860.0, 27164.0, 27228.0, 27292.0, 27616.0, 27760.0, 27824.0, 27860.0, 27876.0, 27892.0, 27956.0, 28020.0, 28596.0, 28632.0, 28828.0, 29728.0, 29828.0, 29972.0, 30168.0, 30492.0, 30492.0, 30528.0, 31312.0, 31312.0, 31328.0, 31332.0, 31368.0, 31372.0, 31516.0, 31916.0, 32492.0, 32688.0, 32704.0, 33104.0, 33168.0, 33268.0, 33304.0, 33308.0, 33324.0, 33340.0, 33664.0, 34564.0, 34600.0, 34604.0, 35628.0, 36028.0, 36224.0, 36228.0, 36232.0, 36268.0, 36592.0, 36628.0, 36664.0, 36680.0, 36716.0, 37040.0, 37236.0, 37252.0, 37396.0, 37540.0, 38324.0, 38340.0, 38664.0, 38728.0, 38728.0, 38744.0, 38780.0, 38976.0, 39300.0, 39300.0, 39976.0, 40012.0, 40336.0, 40400.0, 40416.0, 40480.0, 40804.0, 40820.0, 40856.0, 41000.0, 41036.0, 41052.0, 41116.0, 41372.0, 41772.0, 41808.0, 42132.0, 42328.0, 42524.0, 43200.0, 43524.0, 44424.0, 44488.0, 44524.0, 44624.0, 44624.0, 44660.0, 44804.0, 45060.0, 45160.0, 45260.0, 45276.0, 45312.0, 45796.0, 46820.0, 46920.0, 47064.0, 47068.0, 47744.0, 47888.0, 47988.0, 48024.0, 48700.0, 49724.0, 49868.0, 49904.0, 50304.0, 50404.0, 50404.0, 50440.0, 50540.0, 50640.0, 50836.0, 51092.0, 52116.0, 52440.0, 52504.0, 52604.0, 53900.0, 54476.0, 54620.0, 54944.0, 54948.0, 54948.0, 55204.0, 55204.0, 55528.0, 55592.0, 55628.0, 55728.0, 56212.0, 56228.0, 56484.0, 56520.0, 56556.0, 56812.0, 57008.0, 57108.0, 57108.0, 57124.0, 57224.0, 57708.0, 58108.0, 58304.0, 58320.0, 58576.0, 58612.0, 58628.0, 58692.0, 58756.0, 58900.0, 58900.0, 59224.0, 59240.0, 59496.0, 59500.0, 59516.0, 59712.0, 59968.0, 60368.0, 60564.0, 60568.0, 60632.0, 60776.0, 60920.0, 60920.0, 60924.0, 61248.0, 61392.0, 61968.0, 62112.0, 62256.0, 62260.0, 62264.0, 62460.0, 62656.0, 62912.0, 62928.0, 62944.0, 63008.0, 63044.0, 63300.0, 64084.0, 64100.0, 64100.0, 64200.0, 64396.0, 64796.0, 64832.0, 65988.0, 66244.0, 67144.0, 67468.0, 67724.0, 67760.0, 67776.0, 68452.0, 68452.0, 68648.0, 68748.0, 68752.0, 68852.0, 68856.0, 68892.0, 68908.0, 68944.0, 68948.0, 68984.0, 69468.0, 69664.0, 69680.0, 70256.0, 70260.0, 71044.0, 71060.0, 71544.0, 71868.0, 71868.0, 71904.0, 72228.0, 72424.0, 72440.0, 72444.0, 72444.0, 72700.0, 72700.0, 72704.0, 73380.0, 73864.0, 73964.0, 74064.0, 74128.0, 74324.0, 74324.0, 74340.0, 74376.0, 74700.0, 74716.0, 74972.0, 74976.0, 75012.0, 75048.0, 76344.0, 76668.0, 77068.0, 77644.0, 77840.0, 77876.0, 77940.0, 78424.0, 79000.0, 79484.0, 79584.0, 79984.0, 79988.0, 80132.0, 80328.0, 80332.0, 80368.0, 80692.0, 80696.0, 80760.0, 80776.0, 80876.0, 80940.0, 81516.0, 81840.0, 81856.0, 81860.0, 81860.0, 81924.0, 81928.0, 81992.0, 81996.0, 81996.0, 82096.0, 82580.0, 82680.0, 82680.0, 82876.0, 82940.0, 82976.0, 83012.0, 83048.0, 83052.0, 83376.0, 83476.0, 83492.0, 83748.0, 83812.0, 83876.0, 83880.0, 84136.0, 84140.0, 84176.0, 84432.0, 84916.0, 84920.0, 85404.0, 85404.0, 85420.0, 85744.0, 85888.0, 86032.0, 86176.0, 86372.0, 86372.0, 86436.0, 86536.0, 86572.0, 86588.0, 86652.0, 86668.0, 87344.0, 87540.0, 87540.0, 87736.0, 88136.0, 88152.0, 88188.0, 88188.0, 88188.0, 88672.0, 88688.0, 88724.0, 89624.0, 89660.0, 89804.0, 89808.0, 90004.0, 90580.0, 90616.0, 90616.0, 90632.0, 90696.0, 90892.0, 90892.0, 90928.0, 90964.0, 91160.0, 91260.0, 91936.0, 91952.0, 92208.0, 92352.0, 93648.0, 93904.0, 95060.0, 95160.0, 95260.0, 95296.0, 95296.0, 95872.0, 95972.0, 95976.0, 96232.0, 96332.0, 96432.0, 96576.0, 96612.0, 96756.0, 96756.0, 96856.0, 96892.0, 96928.0, 97028.0, 97064.0, 97068.0, 97132.0, 100048.0, 100448.0, 101348.0, 101492.0, 102392.0, 102492.0, 102556.0, 102656.0, 102756.0, 103912.0, 103948.0, 103984.0, 105584.0, 105684.0, 105688.0, 105724.0, 105824.0, 106224.0, 106800.0, 106836.0, 106852.0, 106916.0, 107240.0, 107436.0, 107536.0, 107572.0, 109172.0, 109188.0, 109864.0, 109900.0, 109936.0, 110720.0, 110976.0, 111040.0, 111296.0, 111620.0, 112196.0, 112232.0, 112248.0, 112252.0, 112576.0, 112576.0, 112772.0, 112916.0, 112916.0, 113016.0, 113080.0, 113144.0, 113720.0, 113736.0, 113740.0, 113804.0, 113820.0, 113856.0, 113872.0, 113876.0, 114200.0, 114204.0, 114204.0, 114220.0, 114224.0, 114548.0, 114648.0, 114712.0, 114812.0, 114812.0, 116412.0, 116448.0, 116704.0, 118148.0, 118152.0, 118552.0, 118652.0, 118652.0, 118716.0, 118716.0, 119200.0, 119984.0, 120128.0, 120528.0, 120672.0, 120772.0, 120872.0, 120972.0, 120988.0, 121024.0, 121348.0, 121384.0, 121528.0, 121564.0, 121580.0, 121584.0, 122160.0, 122260.0, 122264.0, 122588.0, 122624.0, 122628.0, 122772.0, 122916.0, 123060.0, 123124.0, 123320.0, 123324.0, 123648.0, 124132.0, 124916.0, 124980.0, 125656.0, 125912.0, 125948.0, 126048.0, 126052.0, 126052.0, 126452.0, 126596.0, 126600.0, 126604.0, 126928.0, 126964.0, 127540.0, 127640.0, 127644.0, 127680.0, 127824.0, 128224.0, 128228.0, 128228.0, 128424.0, 129448.0, 129644.0, 129660.0, 129760.0, 129956.0, 129972.0, 130168.0, 130172.0, 130236.0, 130912.0, 131588.0, 131604.0, 132388.0, 132424.0, 132488.0, 132524.0, 132560.0, 132624.0, 132820.0, 132836.0, 132852.0, 133176.0, 133320.0, 133644.0, 133644.0, 134128.0, 134132.0, 134276.0, 135060.0, 135160.0, 135196.0, 135596.0, 135696.0, 135892.0, 136148.0, 136212.0, 136536.0, 136536.0, 137436.0, 137580.0, 137584.0, 137584.0, 137588.0, 137652.0, 138136.0, 138152.0, 138188.0, 138288.0, 138304.0, 138980.0, 139124.0, 139188.0, 139224.0, 139324.0, 139468.0, 139664.0, 139808.0, 140484.0, 140808.0, 140872.0, 140936.0, 140972.0, 141036.0, 141612.0, 141936.0, 143700.0, 143736.0, 143836.0, 143840.0, 143904.0, 144160.0, 146096.0, 146096.0, 146160.0, 146164.0, 146200.0, 146300.0, 146304.0, 146308.0, 146344.0, 146444.0, 146444.0, 147020.0, 147696.0, 147732.0, 147748.0, 147892.0, 148148.0, 148164.0, 148420.0, 150356.0, 150456.0, 150492.0, 150592.0, 150788.0, 150792.0, 151048.0, 151304.0, 151880.0, 151884.0, 152080.0, 152276.0, 152280.0, 152424.0, 152488.0, 152744.0, 152744.0, 152888.0, 152924.0, 153068.0, 153324.0, 153328.0, 153344.0, 153600.0, 153796.0, 153992.0, 153996.0, 154480.0, 154484.0, 154584.0, 154588.0, 154588.0, 154652.0, 154752.0, 154768.0, 154868.0, 154884.0, 155080.0, 155480.0, 155964.0, 156160.0, 156224.0, 156260.0, 156324.0, 156724.0, 156724.0, 156740.0, 156776.0, 156972.0, 156976.0, 157652.0, 157752.0, 157768.0, 157912.0, 158012.0, 158028.0, 158428.0, 159452.0, 159456.0, 159472.0, 159796.0, 159832.0, 159896.0, 159912.0, 159912.0, 160312.0, 160508.0, 160572.0, 160636.0, 160780.0, 160844.0, 162288.0, 162304.0, 162788.0, 162804.0, 163480.0, 163484.0, 163488.0, 163812.0, 163848.0, 163992.0, 164248.0, 164392.0, 164876.0, 164912.0, 164912.0, 165312.0, 165796.0, 166196.0, 166340.0, 166356.0, 166552.0, 167848.0, 167884.0, 169484.0, 169808.0, 170592.0, 170628.0, 170632.0, 170828.0, 170892.0, 170956.0, 171440.0, 171540.0, 171544.0, 172568.0, 172892.0, 172928.0, 173184.0, 173284.0, 173300.0, 175064.0, 175080.0, 175084.0, 175148.0, 175344.0, 175488.0, 175492.0, 175508.0, 175544.0, 175688.0, 175752.0, 175788.0, 175888.0, 176144.0, 176208.0, 176212.0, 176408.0, 176472.0, 176476.0, 176476.0, 176620.0, 176636.0, 176636.0, 177420.0, 177484.0, 177584.0, 177620.0, 177636.0, 177832.0, 177836.0, 178236.0, 178560.0, 178564.0, 178568.0, 179144.0, 179288.0, 179484.0, 179968.0, 180004.0, 180068.0, 180084.0, 180228.0, 181012.0, 181016.0, 181340.0, 181536.0, 181572.0, 181608.0, 181644.0, 181708.0, 181744.0, 181844.0, 182420.0, 182520.0, 182520.0, 182584.0, 183484.0, 183628.0, 183628.0, 183644.0, 183744.0, 184320.0, 184384.0, 184400.0, 184404.0, 184504.0, 184648.0, 184844.0, 185744.0, 185888.0, 185924.0, 185988.0, 186184.0, 188300.0, 188336.0, 188372.0, 188628.0, 188632.0, 188888.0, 189288.0, 189544.0, 189868.0, 189872.0, 190356.0, 190756.0, 190820.0, 191076.0, 191476.0, 192052.0, 192196.0, 192772.0, 193348.0, 193352.0, 193388.0, 193584.0, 193600.0, 194176.0, 194372.0, 194388.0, 194404.0, 194548.0, 194612.0, 194676.0, 194776.0, 195100.0, 195116.0, 195900.0, 195904.0, 195908.0, 196484.0, 196500.0, 196516.0, 196660.0, 196664.0, 196860.0, 197184.0, 197668.0, 197864.0, 197900.0, 197904.0, 198160.0, 199184.0, 199188.0, 199204.0, 199880.0, 199884.0, 199884.0, 200140.0, 200396.0, 200652.0, 201436.0, 201500.0, 201516.0, 201532.0, 202316.0, 202332.0, 202348.0, 203948.0, 203964.0, 205120.0, 205156.0, 205220.0, 205220.0, 205256.0, 205740.0, 206640.0, 206656.0, 206692.0, 207176.0, 207176.0, 207372.0, 207516.0, 207580.0, 207776.0, 207780.0, 207816.0, 207852.0, 208108.0, 208252.0, 208256.0]\n"
     ]
    },
    {
     "data": {
      "image/png": "[encoded data removed]",
      "text/plain": [
       "<Figure size 432x288 with 1 Axes>"
      ]
     },
     "metadata": {
      "needs_background": "light"
     },
     "output_type": "display_data"
    }
   ],
   "source": [
    "import pylab\n",
    "user = 2 * randint(0, 2, size=(1000, 200))-1 #1000 walkers that walk 200 steps\n",
    "print(user)\n",
    "print(\"walking distance:\", user.sum(1))   # the walking distance for each walker\n",
    "\n",
    "print(\"walking distances square:\", np.square(user.sum(1)))   # the square of the previously-obtained array (element-wise)\n",
    "mean_distance_square = []\n",
    "walking_distances_square=np.square(user.sum(1))\n",
    "m = 0\n",
    "for i in walking_distances_square:\n",
    "    m += i\n",
    "    mean_distance_square.append(np.mean(m))\n",
    "print(mean_distance_square)\n",
    "distances = np.sqrt(walking_distances_square)\n",
    "m = np.arange(0, len(distances))\n",
    "plt.plot(m, distances)\n",
    "plt.show()"
   ]
  }
 ],
 "metadata": {
  "kernelspec": {
   "display_name": "Python 3 (ipykernel)",
   "language": "python",
   "name": "python3"
  },
  "language_info": {
   "codemirror_mode": {
    "name": "ipython",
    "version": 3
   },
   "file_extension": ".py",
   "mimetype": "text/x-python",
   "name": "python",
   "nbconvert_exporter": "python",
   "pygments_lexer": "ipython3",
   "version": "3.9.12"
  }
 },
 "nbformat": 4,
 "nbformat_minor": 2
}
